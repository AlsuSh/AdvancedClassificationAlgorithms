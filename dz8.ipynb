{
 "cells": [
  {
   "cell_type": "code",
   "execution_count": 37,
   "metadata": {},
   "outputs": [],
   "source": [
    "import pandas as pd\n",
    "import numpy as np\n",
    "from sklearn.model_selection import train_test_split\n",
    "from sklearn.model_selection import GridSearchCV\n",
    "from sklearn.neighbors import KNeighborsClassifier"
   ]
  },
  {
   "cell_type": "code",
   "execution_count": 38,
   "metadata": {},
   "outputs": [],
   "source": [
    "from sklearn.datasets import load_boston"
   ]
  },
  {
   "cell_type": "code",
   "execution_count": 39,
   "metadata": {},
   "outputs": [],
   "source": [
    "boston = load_boston()\n",
    "X = pd.DataFrame(boston.data, columns=boston.feature_names)\n",
    "y = pd.Series(boston.target)"
   ]
  },
  {
   "cell_type": "code",
   "execution_count": 40,
   "metadata": {},
   "outputs": [
    {
     "data": {
      "text/plain": [
       "Index(['CRIM', 'ZN', 'INDUS', 'CHAS', 'NOX', 'RM', 'AGE', 'DIS', 'RAD', 'TAX',\n",
       "       'PTRATIO', 'B', 'LSTAT'],\n",
       "      dtype='object')"
      ]
     },
     "execution_count": 40,
     "metadata": {},
     "output_type": "execute_result"
    }
   ],
   "source": [
    "X.columns"
   ]
  },
  {
   "cell_type": "code",
   "execution_count": 41,
   "metadata": {},
   "outputs": [
    {
     "name": "stdout",
     "output_type": "stream",
     "text": [
      "Для CRIM пустых строк 0\n",
      "Для ZN пустых строк 0\n",
      "Для INDUS пустых строк 0\n",
      "Для CHAS пустых строк 0\n",
      "Для NOX пустых строк 0\n",
      "Для RM пустых строк 0\n",
      "Для AGE пустых строк 0\n",
      "Для DIS пустых строк 0\n",
      "Для RAD пустых строк 0\n",
      "Для TAX пустых строк 0\n",
      "Для PTRATIO пустых строк 0\n",
      "Для B пустых строк 0\n",
      "Для LSTAT пустых строк 0\n",
      "Всего строк в наборе 506\n"
     ]
    }
   ],
   "source": [
    "print('Для CRIM пустых строк ' + str( len( X[pd.isnull( X['CRIM'] )] ) ))\n",
    "print('Для ZN пустых строк ' + str( len( X[pd.isnull( X['ZN'] )] ) ))\n",
    "print('Для INDUS пустых строк ' + str( len( X[pd.isnull( X['INDUS'] )] ) ))\n",
    "print('Для CHAS пустых строк ' + str( len( X[pd.isnull( X['CHAS'] )] ) ))\n",
    "print('Для NOX пустых строк ' + str( len( X[pd.isnull( X['NOX'] )] ) ))\n",
    "print('Для RM пустых строк ' + str( len( X[pd.isnull( X['RM'] )] ) ))\n",
    "print('Для AGE пустых строк ' + str( len( X[pd.isnull( X['AGE'] )] ) ))\n",
    "print('Для DIS пустых строк ' + str( len( X[pd.isnull( X['DIS'] )] ) ))\n",
    "print('Для RAD пустых строк ' + str( len( X[pd.isnull( X['RAD'] )] ) ))\n",
    "print('Для TAX пустых строк ' + str( len( X[pd.isnull( X['TAX'] )] ) ))\n",
    "print('Для PTRATIO пустых строк ' + str( len( X[pd.isnull( X['PTRATIO'] )] ) ))\n",
    "print('Для B пустых строк ' + str( len( X[pd.isnull( X['B'] )] ) ))\n",
    "print('Для LSTAT пустых строк ' + str( len( X[pd.isnull( X['LSTAT'] )] ) ))\n",
    "print('Всего строк в наборе ' + str( len( X ) ))"
   ]
  },
  {
   "cell_type": "code",
   "execution_count": 42,
   "metadata": {},
   "outputs": [],
   "source": [
    "#X, y = load_boston(return_X_y = True)"
   ]
  },
  {
   "cell_type": "code",
   "execution_count": 43,
   "metadata": {},
   "outputs": [],
   "source": [
    "X_train, X_valid, y_train, y_valid = train_test_split(X, y, test_size=0.3, random_state = 0)"
   ]
  },
  {
   "cell_type": "code",
   "execution_count": 44,
   "metadata": {},
   "outputs": [],
   "source": [
    "sc = StandardScaler()\n",
    "X_train = sc.fit_transform(X_train)\n",
    "X_valid = sc.transform(X_valid)"
   ]
  },
  {
   "cell_type": "code",
   "execution_count": 48,
   "metadata": {},
   "outputs": [
    {
     "name": "stdout",
     "output_type": "stream",
     "text": [
      "0.7645451026942549\n",
      "0.6733825506400195\n"
     ]
    }
   ],
   "source": [
    "from sklearn.linear_model import LinearRegression\n",
    "lr = LinearRegression().fit(X_train, y_train)\n",
    "print(lr.score(X_train, y_train))\n",
    "print(lr.score(X_valid, y_valid))"
   ]
  },
  {
   "cell_type": "code",
   "execution_count": 49,
   "metadata": {},
   "outputs": [
    {
     "name": "stdout",
     "output_type": "stream",
     "text": [
      "{'copy_X': 'True', 'fit_intercept': True, 'normalize': False}\n",
      "0.7134653190143675\n",
      "LinearRegression(copy_X='True', fit_intercept=True, n_jobs=None,\n",
      "         normalize=False)\n"
     ]
    },
    {
     "name": "stderr",
     "output_type": "stream",
     "text": [
      "C:\\Users\\Name\\Anaconda3\\lib\\site-packages\\sklearn\\model_selection\\_search.py:841: DeprecationWarning: The default of the `iid` parameter will change from True to False in version 0.22 and will be removed in 0.24. This will change numeric results when test-set sizes are unequal.\n",
      "  DeprecationWarning)\n"
     ]
    }
   ],
   "source": [
    "lr_params = {\n",
    "    'fit_intercept':[True,False], \n",
    "    'normalize':[True,False],\n",
    "    'copy_X':('True', 'False')\n",
    "}\n",
    "grid_lr = GridSearchCV(lr, lr_params, cv=10)\n",
    "grid_lr.fit(X_train, y_train)\n",
    "print(grid_lr.best_params_)\n",
    "print(grid_lr.best_score_)\n",
    "print(grid_lr.best_estimator_)"
   ]
  },
  {
   "cell_type": "markdown",
   "metadata": {},
   "source": [
    "Ridge"
   ]
  },
  {
   "cell_type": "code",
   "execution_count": 50,
   "metadata": {},
   "outputs": [],
   "source": [
    "from sklearn.linear_model import Ridge"
   ]
  },
  {
   "cell_type": "code",
   "execution_count": 51,
   "metadata": {},
   "outputs": [],
   "source": [
    "alphas = np.array([0.001, 0.01, 0.1, 1, 10, 100])"
   ]
  },
  {
   "cell_type": "code",
   "execution_count": 52,
   "metadata": {},
   "outputs": [
    {
     "name": "stderr",
     "output_type": "stream",
     "text": [
      "C:\\Users\\Name\\Anaconda3\\lib\\site-packages\\sklearn\\model_selection\\_split.py:2053: FutureWarning: You should specify a value for 'cv' instead of relying on the default value. The default value will change from 3 to 5 in version 0.22.\n",
      "  warnings.warn(CV_WARNING, FutureWarning)\n"
     ]
    },
    {
     "data": {
      "text/plain": [
       "GridSearchCV(cv='warn', error_score='raise-deprecating',\n",
       "       estimator=Ridge(alpha=1.0, copy_X=True, fit_intercept=True, max_iter=None,\n",
       "   normalize=False, random_state=None, solver='auto', tol=0.001),\n",
       "       fit_params=None, iid='warn', n_jobs=None,\n",
       "       param_grid={'alpha': array([1.e-03, 1.e-02, 1.e-01, 1.e+00, 1.e+01, 1.e+02])},\n",
       "       pre_dispatch='2*n_jobs', refit=True, return_train_score='warn',\n",
       "       scoring=None, verbose=0)"
      ]
     },
     "execution_count": 52,
     "metadata": {},
     "output_type": "execute_result"
    }
   ],
   "source": [
    "model_Ridge = Ridge()\n",
    "grid_Ridge = GridSearchCV(estimator=model_Ridge, param_grid=dict(alpha=alphas))\n",
    "grid_Ridge.fit(X_train, y_train)"
   ]
  },
  {
   "cell_type": "code",
   "execution_count": 53,
   "metadata": {},
   "outputs": [
    {
     "name": "stdout",
     "output_type": "stream",
     "text": [
      "{'alpha': 10.0}\n",
      "0.7202375733329446\n",
      "Ridge(alpha=10.0, copy_X=True, fit_intercept=True, max_iter=None,\n",
      "   normalize=False, random_state=None, solver='auto', tol=0.001)\n"
     ]
    }
   ],
   "source": [
    "print(grid_Ridge.best_params_)\n",
    "print(grid_Ridge.best_score_)\n",
    "print(grid_Ridge.best_estimator_)"
   ]
  },
  {
   "cell_type": "markdown",
   "metadata": {},
   "source": [
    "Lasso"
   ]
  },
  {
   "cell_type": "code",
   "execution_count": 54,
   "metadata": {},
   "outputs": [],
   "source": [
    "from sklearn.linear_model import Lasso"
   ]
  },
  {
   "cell_type": "code",
   "execution_count": 55,
   "metadata": {},
   "outputs": [],
   "source": [
    "alphas = np.array([0.001, 0.01, 0.1, 1, 10, 100])"
   ]
  },
  {
   "cell_type": "code",
   "execution_count": 56,
   "metadata": {},
   "outputs": [
    {
     "name": "stderr",
     "output_type": "stream",
     "text": [
      "C:\\Users\\Name\\Anaconda3\\lib\\site-packages\\sklearn\\model_selection\\_split.py:2053: FutureWarning: You should specify a value for 'cv' instead of relying on the default value. The default value will change from 3 to 5 in version 0.22.\n",
      "  warnings.warn(CV_WARNING, FutureWarning)\n"
     ]
    },
    {
     "data": {
      "text/plain": [
       "GridSearchCV(cv='warn', error_score='raise-deprecating',\n",
       "       estimator=Lasso(alpha=1.0, copy_X=True, fit_intercept=True, max_iter=1000,\n",
       "   normalize=False, positive=False, precompute=False, random_state=None,\n",
       "   selection='cyclic', tol=0.0001, warm_start=False),\n",
       "       fit_params=None, iid='warn', n_jobs=None,\n",
       "       param_grid={'alpha': array([1.e-03, 1.e-02, 1.e-01, 1.e+00, 1.e+01, 1.e+02])},\n",
       "       pre_dispatch='2*n_jobs', refit=True, return_train_score='warn',\n",
       "       scoring=None, verbose=0)"
      ]
     },
     "execution_count": 56,
     "metadata": {},
     "output_type": "execute_result"
    }
   ],
   "source": [
    "model_Lasso = Lasso()\n",
    "grid_Lasso = GridSearchCV(estimator=model_Lasso, param_grid=dict(alpha=alphas))\n",
    "grid_Lasso.fit(X_train, y_train)"
   ]
  },
  {
   "cell_type": "code",
   "execution_count": 57,
   "metadata": {},
   "outputs": [
    {
     "name": "stdout",
     "output_type": "stream",
     "text": [
      "{'alpha': 0.01}\n",
      "0.7162498009500713\n",
      "Lasso(alpha=0.01, copy_X=True, fit_intercept=True, max_iter=1000,\n",
      "   normalize=False, positive=False, precompute=False, random_state=None,\n",
      "   selection='cyclic', tol=0.0001, warm_start=False)\n"
     ]
    }
   ],
   "source": [
    "print(grid_Lasso.best_params_)\n",
    "print(grid_Lasso.best_score_)\n",
    "print(grid_Lasso.best_estimator_)"
   ]
  },
  {
   "cell_type": "markdown",
   "metadata": {},
   "source": [
    "RandomForestRegressor"
   ]
  },
  {
   "cell_type": "code",
   "execution_count": 61,
   "metadata": {},
   "outputs": [
    {
     "name": "stdout",
     "output_type": "stream",
     "text": [
      "0.8354763209984124\n",
      "{'bootstrap': True, 'max_depth': 9, 'min_samples_split': 4, 'n_estimators': 30}\n",
      "RandomForestRegressor(bootstrap=True, criterion='mse', max_depth=9,\n",
      "           max_features='auto', max_leaf_nodes=None,\n",
      "           min_impurity_decrease=0.0, min_impurity_split=None,\n",
      "           min_samples_leaf=1, min_samples_split=4,\n",
      "           min_weight_fraction_leaf=0.0, n_estimators=30, n_jobs=None,\n",
      "           oob_score=False, random_state=None, verbose=0, warm_start=False)\n"
     ]
    },
    {
     "name": "stderr",
     "output_type": "stream",
     "text": [
      "C:\\Users\\Name\\Anaconda3\\lib\\site-packages\\sklearn\\model_selection\\_search.py:841: DeprecationWarning: The default of the `iid` parameter will change from True to False in version 0.22 and will be removed in 0.24. This will change numeric results when test-set sizes are unequal.\n",
      "  DeprecationWarning)\n"
     ]
    }
   ],
   "source": [
    "from sklearn.ensemble import RandomForestRegressor\n",
    "rfr_params = {\n",
    "    \"n_estimators\":[10, 20, 30],\n",
    "    'max_depth':[1, 3, 5, 7, 9],\n",
    "    \"min_samples_split\":[2, 4, 8],\n",
    "    \"bootstrap\": [True, False],\n",
    "}\n",
    "rfr = RandomForestRegressor()\n",
    "grid_rfr = GridSearchCV(rfr, rfr_params, cv=10)\n",
    "grid_rfr.fit(X_train, y_train)\n",
    "print(grid_rfr.best_score_)\n",
    "print(grid_rfr.best_params_)\n",
    "print(grid_rfr.best_estimator_)"
   ]
  },
  {
   "cell_type": "markdown",
   "metadata": {},
   "source": [
    "Сравниваем результаты на валидационной выборке"
   ]
  },
  {
   "cell_type": "code",
   "execution_count": 63,
   "metadata": {},
   "outputs": [],
   "source": [
    "estimators = {\n",
    "    'Regression': grid_lr,\n",
    "    'Ridge': grid_Ridge,\n",
    "    'Lasso': grid_Lasso,\n",
    "    'RFR': grid_rfr\n",
    "}"
   ]
  },
  {
   "cell_type": "code",
   "execution_count": 64,
   "metadata": {},
   "outputs": [
    {
     "name": "stdout",
     "output_type": "stream",
     "text": [
      "Regression CV Accuracy: 0.7134653190143675 Validation Accuracy: 0.6733825506400195\n",
      "Ridge CV Accuracy: 0.7202375733329446 Validation Accuracy: 0.6674648670481825\n",
      "Lasso CV Accuracy: 0.7162498009500713 Validation Accuracy: 0.6724327650469639\n",
      "RFR CV Accuracy: 0.8354763209984124 Validation Accuracy: 0.7987095696519922\n"
     ]
    }
   ],
   "source": [
    "for k in estimators:\n",
    "    v = estimators[k]\n",
    "    print(k, \"CV Accuracy:\", v.best_score_, \"Validation Accuracy:\", v.best_estimator_.score(X_valid, y_valid))"
   ]
  },
  {
   "cell_type": "code",
   "execution_count": null,
   "metadata": {},
   "outputs": [],
   "source": []
  }
 ],
 "metadata": {
  "kernelspec": {
   "display_name": "Python 3",
   "language": "python",
   "name": "python3"
  },
  "language_info": {
   "codemirror_mode": {
    "name": "ipython",
    "version": 3
   },
   "file_extension": ".py",
   "mimetype": "text/x-python",
   "name": "python",
   "nbconvert_exporter": "python",
   "pygments_lexer": "ipython3",
   "version": "3.7.1"
  }
 },
 "nbformat": 4,
 "nbformat_minor": 2
}
